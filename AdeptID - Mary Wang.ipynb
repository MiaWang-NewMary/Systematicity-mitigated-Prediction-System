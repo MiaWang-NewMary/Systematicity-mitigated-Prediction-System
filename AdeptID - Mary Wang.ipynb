{
 "cells": [
  {
   "cell_type": "markdown",
   "metadata": {},
   "source": [
    "This notebook contains two parts: \n",
    "* Exploration work: codes for exploring the data and the best way to construct the predition system, as well as notes on **future steps given more time**. \n",
    "* Formal work: codes for the systematicity-mitigated prediction system and evaluating metrics."
   ]
  },
  {
   "cell_type": "markdown",
   "metadata": {},
   "source": [
    "# Exploration work"
   ]
  },
  {
   "cell_type": "code",
   "execution_count": 1,
   "metadata": {},
   "outputs": [],
   "source": [
    "import numpy as np\n",
    "import pandas as pd\n",
    "import matplotlib.pyplot as plt\n",
    "import seaborn as sns\n",
    "\n",
    "plt.style.use('ggplot') \n",
    "%matplotlib inline"
   ]
  },
  {
   "cell_type": "markdown",
   "metadata": {},
   "source": [
    "## EDA"
   ]
  },
  {
   "cell_type": "markdown",
   "metadata": {},
   "source": [
    "Futher steps given more time:\n",
    "\n",
    "* Handling missing value: drop features with too many missing values, or filling in missing value based on the actual meaning of the feature \n",
    "\n",
    "* Feature engineering: conduct a more detailed exploration on every features to check for outliers, and better dealing with features such as ethnicity"
   ]
  },
  {
   "cell_type": "code",
   "execution_count": 2,
   "metadata": {},
   "outputs": [],
   "source": [
    "df = pd.read_csv('data.csv')"
   ]
  },
  {
   "cell_type": "code",
   "execution_count": 3,
   "metadata": {},
   "outputs": [
    {
     "data": {
      "text/html": [
       "<div>\n",
       "<style scoped>\n",
       "    .dataframe tbody tr th:only-of-type {\n",
       "        vertical-align: middle;\n",
       "    }\n",
       "\n",
       "    .dataframe tbody tr th {\n",
       "        vertical-align: top;\n",
       "    }\n",
       "\n",
       "    .dataframe thead th {\n",
       "        text-align: right;\n",
       "    }\n",
       "</style>\n",
       "<table border=\"1\" class=\"dataframe\">\n",
       "  <thead>\n",
       "    <tr style=\"text-align: right;\">\n",
       "      <th></th>\n",
       "      <th>candidate_id</th>\n",
       "      <th>application_status</th>\n",
       "      <th>number_of_employees_log</th>\n",
       "      <th>occupation_id</th>\n",
       "      <th>company_id</th>\n",
       "      <th>occupation_skill_1_count</th>\n",
       "      <th>occupation_skill_2_count</th>\n",
       "      <th>occupation_skill_3_count</th>\n",
       "      <th>occupation_skill_4_count</th>\n",
       "      <th>occupation_skill_5_count</th>\n",
       "      <th>...</th>\n",
       "      <th>candidate_skill_2_count</th>\n",
       "      <th>candidate_skill_3_count</th>\n",
       "      <th>candidate_skill_4_count</th>\n",
       "      <th>candidate_skill_5_count</th>\n",
       "      <th>candidate_skill_6_count</th>\n",
       "      <th>candidate_skill_7_count</th>\n",
       "      <th>candidate_skill_8_count</th>\n",
       "      <th>candidate_skill_9_count</th>\n",
       "      <th>candidate_relative_test_1</th>\n",
       "      <th>candidate_relative_test_2</th>\n",
       "    </tr>\n",
       "  </thead>\n",
       "  <tbody>\n",
       "    <tr>\n",
       "      <th>0</th>\n",
       "      <td>bgjikcrozdgkrtzigymnaylpypxxublc0</td>\n",
       "      <td>interview</td>\n",
       "      <td>2.0</td>\n",
       "      <td>exvwhbxlejsfyqxnwjabksnntpwodfhr0</td>\n",
       "      <td>xuemjhkyskdkwxlfbykrvkrffvpoepid0</td>\n",
       "      <td>1.0</td>\n",
       "      <td>0.0</td>\n",
       "      <td>0.0</td>\n",
       "      <td>1.0</td>\n",
       "      <td>0.0</td>\n",
       "      <td>...</td>\n",
       "      <td>7.0</td>\n",
       "      <td>2.0</td>\n",
       "      <td>8.0</td>\n",
       "      <td>12.0</td>\n",
       "      <td>0.0</td>\n",
       "      <td>9.0</td>\n",
       "      <td>4.0</td>\n",
       "      <td>6.0</td>\n",
       "      <td>0.600274</td>\n",
       "      <td>0.348715</td>\n",
       "    </tr>\n",
       "    <tr>\n",
       "      <th>1</th>\n",
       "      <td>pgvjmzqyjgzmbgqetvzteeejufcexbur1</td>\n",
       "      <td>interview</td>\n",
       "      <td>1.0</td>\n",
       "      <td>jpegpbxvbsjbkwmahpbvcdbxzcdjmack1</td>\n",
       "      <td>ndahnrikmemhkgwgsrfoaazzkszfntja1</td>\n",
       "      <td>0.0</td>\n",
       "      <td>0.0</td>\n",
       "      <td>0.0</td>\n",
       "      <td>1.0</td>\n",
       "      <td>1.0</td>\n",
       "      <td>...</td>\n",
       "      <td>NaN</td>\n",
       "      <td>0.0</td>\n",
       "      <td>4.0</td>\n",
       "      <td>10.0</td>\n",
       "      <td>5.0</td>\n",
       "      <td>1.0</td>\n",
       "      <td>3.0</td>\n",
       "      <td>0.0</td>\n",
       "      <td>0.759273</td>\n",
       "      <td>0.972119</td>\n",
       "    </tr>\n",
       "    <tr>\n",
       "      <th>2</th>\n",
       "      <td>snzyhcbqkbtiydfxcxhpcyzuirxzpxcx2</td>\n",
       "      <td>interview</td>\n",
       "      <td>1.0</td>\n",
       "      <td>czwkhxbmdopwdiuufvsxtahuqnifojgl2</td>\n",
       "      <td>xzlecjjnxynakiohuqudeusnnrzlrivp2</td>\n",
       "      <td>0.0</td>\n",
       "      <td>1.0</td>\n",
       "      <td>NaN</td>\n",
       "      <td>0.0</td>\n",
       "      <td>1.0</td>\n",
       "      <td>...</td>\n",
       "      <td>4.0</td>\n",
       "      <td>7.0</td>\n",
       "      <td>4.0</td>\n",
       "      <td>NaN</td>\n",
       "      <td>2.0</td>\n",
       "      <td>NaN</td>\n",
       "      <td>6.0</td>\n",
       "      <td>1.0</td>\n",
       "      <td>0.664639</td>\n",
       "      <td>0.597499</td>\n",
       "    </tr>\n",
       "    <tr>\n",
       "      <th>3</th>\n",
       "      <td>tbugkzlvhnkjkgzclndonrcusetoygmc3</td>\n",
       "      <td>hired</td>\n",
       "      <td>4.0</td>\n",
       "      <td>aeuvpjqtkaeeqghymzriuvoyqfzikhwq3</td>\n",
       "      <td>hxxnjooagjshdqeioibhovqqggztvbaw3</td>\n",
       "      <td>NaN</td>\n",
       "      <td>NaN</td>\n",
       "      <td>NaN</td>\n",
       "      <td>NaN</td>\n",
       "      <td>0.0</td>\n",
       "      <td>...</td>\n",
       "      <td>5.0</td>\n",
       "      <td>7.0</td>\n",
       "      <td>0.0</td>\n",
       "      <td>3.0</td>\n",
       "      <td>1.0</td>\n",
       "      <td>8.0</td>\n",
       "      <td>0.0</td>\n",
       "      <td>NaN</td>\n",
       "      <td>0.622446</td>\n",
       "      <td>0.569189</td>\n",
       "    </tr>\n",
       "    <tr>\n",
       "      <th>4</th>\n",
       "      <td>fxhprrcbbbqkuidxmjcahezgljgnxbte4</td>\n",
       "      <td>hired</td>\n",
       "      <td>4.0</td>\n",
       "      <td>iyejtuewotamjissxrmlncpoteqyqvdk4</td>\n",
       "      <td>tqjeojjlpmnmnnoxyrewiacjzipaawpm4</td>\n",
       "      <td>0.0</td>\n",
       "      <td>NaN</td>\n",
       "      <td>NaN</td>\n",
       "      <td>0.0</td>\n",
       "      <td>NaN</td>\n",
       "      <td>...</td>\n",
       "      <td>6.0</td>\n",
       "      <td>NaN</td>\n",
       "      <td>8.0</td>\n",
       "      <td>NaN</td>\n",
       "      <td>1.0</td>\n",
       "      <td>1.0</td>\n",
       "      <td>10.0</td>\n",
       "      <td>4.0</td>\n",
       "      <td>0.493108</td>\n",
       "      <td>0.708251</td>\n",
       "    </tr>\n",
       "  </tbody>\n",
       "</table>\n",
       "<p>5 rows × 60 columns</p>\n",
       "</div>"
      ],
      "text/plain": [
       "                        candidate_id application_status  \\\n",
       "0  bgjikcrozdgkrtzigymnaylpypxxublc0          interview   \n",
       "1  pgvjmzqyjgzmbgqetvzteeejufcexbur1          interview   \n",
       "2  snzyhcbqkbtiydfxcxhpcyzuirxzpxcx2          interview   \n",
       "3  tbugkzlvhnkjkgzclndonrcusetoygmc3              hired   \n",
       "4  fxhprrcbbbqkuidxmjcahezgljgnxbte4              hired   \n",
       "\n",
       "   number_of_employees_log                      occupation_id  \\\n",
       "0                      2.0  exvwhbxlejsfyqxnwjabksnntpwodfhr0   \n",
       "1                      1.0  jpegpbxvbsjbkwmahpbvcdbxzcdjmack1   \n",
       "2                      1.0  czwkhxbmdopwdiuufvsxtahuqnifojgl2   \n",
       "3                      4.0  aeuvpjqtkaeeqghymzriuvoyqfzikhwq3   \n",
       "4                      4.0  iyejtuewotamjissxrmlncpoteqyqvdk4   \n",
       "\n",
       "                          company_id  occupation_skill_1_count  \\\n",
       "0  xuemjhkyskdkwxlfbykrvkrffvpoepid0                       1.0   \n",
       "1  ndahnrikmemhkgwgsrfoaazzkszfntja1                       0.0   \n",
       "2  xzlecjjnxynakiohuqudeusnnrzlrivp2                       0.0   \n",
       "3  hxxnjooagjshdqeioibhovqqggztvbaw3                       NaN   \n",
       "4  tqjeojjlpmnmnnoxyrewiacjzipaawpm4                       0.0   \n",
       "\n",
       "   occupation_skill_2_count  occupation_skill_3_count  \\\n",
       "0                       0.0                       0.0   \n",
       "1                       0.0                       0.0   \n",
       "2                       1.0                       NaN   \n",
       "3                       NaN                       NaN   \n",
       "4                       NaN                       NaN   \n",
       "\n",
       "   occupation_skill_4_count  occupation_skill_5_count  ...  \\\n",
       "0                       1.0                       0.0  ...   \n",
       "1                       1.0                       1.0  ...   \n",
       "2                       0.0                       1.0  ...   \n",
       "3                       NaN                       0.0  ...   \n",
       "4                       0.0                       NaN  ...   \n",
       "\n",
       "   candidate_skill_2_count  candidate_skill_3_count  candidate_skill_4_count  \\\n",
       "0                      7.0                      2.0                      8.0   \n",
       "1                      NaN                      0.0                      4.0   \n",
       "2                      4.0                      7.0                      4.0   \n",
       "3                      5.0                      7.0                      0.0   \n",
       "4                      6.0                      NaN                      8.0   \n",
       "\n",
       "   candidate_skill_5_count  candidate_skill_6_count  candidate_skill_7_count  \\\n",
       "0                     12.0                      0.0                      9.0   \n",
       "1                     10.0                      5.0                      1.0   \n",
       "2                      NaN                      2.0                      NaN   \n",
       "3                      3.0                      1.0                      8.0   \n",
       "4                      NaN                      1.0                      1.0   \n",
       "\n",
       "  candidate_skill_8_count  candidate_skill_9_count  candidate_relative_test_1  \\\n",
       "0                     4.0                      6.0                   0.600274   \n",
       "1                     3.0                      0.0                   0.759273   \n",
       "2                     6.0                      1.0                   0.664639   \n",
       "3                     0.0                      NaN                   0.622446   \n",
       "4                    10.0                      4.0                   0.493108   \n",
       "\n",
       "   candidate_relative_test_2  \n",
       "0                   0.348715  \n",
       "1                   0.972119  \n",
       "2                   0.597499  \n",
       "3                   0.569189  \n",
       "4                   0.708251  \n",
       "\n",
       "[5 rows x 60 columns]"
      ]
     },
     "execution_count": 3,
     "metadata": {},
     "output_type": "execute_result"
    }
   ],
   "source": [
    "df.head()"
   ]
  },
  {
   "cell_type": "code",
   "execution_count": 8,
   "metadata": {},
   "outputs": [
    {
     "name": "stdout",
     "output_type": "stream",
     "text": [
      "<class 'pandas.core.frame.DataFrame'>\n",
      "RangeIndex: 50000 entries, 0 to 49999\n",
      "Data columns (total 60 columns):\n",
      " #   Column                             Non-Null Count  Dtype  \n",
      "---  ------                             --------------  -----  \n",
      " 0   candidate_id                       50000 non-null  object \n",
      " 1   application_status                 50000 non-null  object \n",
      " 2   number_of_employees_log            50000 non-null  float64\n",
      " 3   occupation_id                      50000 non-null  object \n",
      " 4   company_id                         50000 non-null  object \n",
      " 5   occupation_skill_1_count           33374 non-null  float64\n",
      " 6   occupation_skill_2_count           37227 non-null  float64\n",
      " 7   occupation_skill_3_count           34724 non-null  float64\n",
      " 8   occupation_skill_4_count           36279 non-null  float64\n",
      " 9   occupation_skill_5_count           34998 non-null  float64\n",
      " 10  occupation_skill_6_count           30468 non-null  float64\n",
      " 11  occupation_skill_7_count           32920 non-null  float64\n",
      " 12  occupation_skill_8_count           35718 non-null  float64\n",
      " 13  occupation_skill_9_count           34499 non-null  float64\n",
      " 14  candidate_attribute_1              38937 non-null  float64\n",
      " 15  candidate_attribute_2              47753 non-null  float64\n",
      " 16  application_attribute_1            50000 non-null  object \n",
      " 17  candidate_demographic_variable_1   40419 non-null  float64\n",
      " 18  candidate_demographic_variable_2   34620 non-null  float64\n",
      " 19  candidate_demographic_variable_3   35617 non-null  float64\n",
      " 20  candidate_demographic_variable_4   39561 non-null  float64\n",
      " 21  ethnicity                          47543 non-null  object \n",
      " 22  gender                             50000 non-null  object \n",
      " 23  candidate_demographic_variable_5   44679 non-null  object \n",
      " 24  candidate_demographic_variable_6   43232 non-null  float64\n",
      " 25  candidate_demographic_variable_7   46048 non-null  float64\n",
      " 26  candidate_demographic_variable_8   41383 non-null  float64\n",
      " 27  candidate_demographic_variable_9   50000 non-null  int64  \n",
      " 28  candidate_demographic_variable_10  50000 non-null  int64  \n",
      " 29  age                                48393 non-null  float64\n",
      " 30  candidate_attribute_3              44770 non-null  float64\n",
      " 31  candidate_attribute_4              44601 non-null  float64\n",
      " 32  candidate_attribute_5              47451 non-null  float64\n",
      " 33  candidate_attribute_6              36662 non-null  float64\n",
      " 34  candidate_attribute_7              41196 non-null  float64\n",
      " 35  candidate_interest_1               46008 non-null  float64\n",
      " 36  candidate_interest_2               33150 non-null  float64\n",
      " 37  candidate_interest_3               44503 non-null  float64\n",
      " 38  candidate_interest_4               45305 non-null  float64\n",
      " 39  candidate_interest_5               43824 non-null  float64\n",
      " 40  candidate_interest_6               45106 non-null  float64\n",
      " 41  candidate_interest_7               43146 non-null  float64\n",
      " 42  candidate_interest_8               46719 non-null  float64\n",
      " 43  candidate_attribute_8              46993 non-null  float64\n",
      " 44  number_years_feature_1             47740 non-null  float64\n",
      " 45  number_years_feature_2             47960 non-null  float64\n",
      " 46  number_years_feature_3             48122 non-null  float64\n",
      " 47  number_years_feature_4             48817 non-null  float64\n",
      " 48  number_years_feature_5             48173 non-null  float64\n",
      " 49  candidate_skill_1_count            45230 non-null  float64\n",
      " 50  candidate_skill_2_count            45312 non-null  float64\n",
      " 51  candidate_skill_3_count            43081 non-null  float64\n",
      " 52  candidate_skill_4_count            43514 non-null  float64\n",
      " 53  candidate_skill_5_count            45913 non-null  float64\n",
      " 54  candidate_skill_6_count            43799 non-null  float64\n",
      " 55  candidate_skill_7_count            43582 non-null  float64\n",
      " 56  candidate_skill_8_count            43976 non-null  float64\n",
      " 57  candidate_skill_9_count            44248 non-null  float64\n",
      " 58  candidate_relative_test_1          46086 non-null  float64\n",
      " 59  candidate_relative_test_2          46573 non-null  float64\n",
      "dtypes: float64(50), int64(2), object(8)\n",
      "memory usage: 22.9+ MB\n"
     ]
    }
   ],
   "source": [
    "df.info()"
   ]
  },
  {
   "cell_type": "code",
   "execution_count": 7,
   "metadata": {},
   "outputs": [
    {
     "data": {
      "text/plain": [
       "<AxesSubplot:>"
      ]
     },
     "execution_count": 7,
     "metadata": {},
     "output_type": "execute_result"
    },
    {
     "data": {
      "image/png": "[encoded data removed]",
      "text/plain": [
       "<Figure size 432x288 with 1 Axes>"
      ]
     },
     "metadata": {
      "needs_background": "light"
     },
     "output_type": "display_data"
    }
   ],
   "source": [
    "# checking missing value\n",
    "\n",
    "## As shown below, a lot of features contain quite a portion of missing value\n",
    "## Given more time, we can handle the missing values more properly\n",
    "## But for now, I am gonna skip this step and use models that can accept missing values in features\n",
    "\n",
    "sns.heatmap(df.isnull(),yticklabels=False,cbar=False,cmap='viridis')"
   ]
  },
  {
   "cell_type": "code",
   "execution_count": 10,
   "metadata": {},
   "outputs": [
    {
     "data": {
      "text/plain": [
       "pre-interview    20350\n",
       "hired            15122\n",
       "interview        14528\n",
       "Name: application_status, dtype: int64"
      ]
     },
     "execution_count": 10,
     "metadata": {},
     "output_type": "execute_result"
    }
   ],
   "source": [
    "df['application_status'].value_counts()"
   ]
  },
  {
   "cell_type": "code",
   "execution_count": 16,
   "metadata": {},
   "outputs": [
    {
     "data": {
      "text/plain": [
       "White English / Welsh / Scottish / Northern Irish / British    6516\n",
       "Black African                                                  2821\n",
       "Black / African / Caribbean any other background               2366\n",
       "Mixed ethnic any other background                              2255\n",
       "Asian Bangladeshi                                              2033\n",
       "Any other ethnic group not listed                              2010\n",
       "Hispanic / Latinx                                              1988\n",
       "Black or African American                                      1985\n",
       "Mixed ethnic White and Black Caribbean                         1924\n",
       "Mixed ethnic White and Asian                                   1918\n",
       "Asian Indian                                                   1882\n",
       "Asian Pakistani                                                1819\n",
       "White Irish                                                    1759\n",
       "White                                                          1629\n",
       "Black Caribbean                                                1619\n",
       "Asian                                                          1612\n",
       "Asian Chinese                                                  1452\n",
       "Any other ethnic group Arab                                    1371\n",
       "Asian any other background                                     1297\n",
       "White any other background                                     1290\n",
       "American Indian or Alaska Native                               1282\n",
       "Other                                                          1207\n",
       "Rather not say                                                 1189\n",
       "White Gypsy / Irish Traveller                                  1171\n",
       "Mixed ethnic White and Black African                           1148\n",
       "Name: ethnicity, dtype: int64"
      ]
     },
     "execution_count": 16,
     "metadata": {},
     "output_type": "execute_result"
    }
   ],
   "source": [
    "# Ethinicity \n",
    "\n",
    "## If given more time, I would engineer this feature \n",
    "## by further buketing them into more standard categories to decrease the number of the categories\n",
    "\n",
    "df['ethnicity'].value_counts()"
   ]
  },
  {
   "cell_type": "code",
   "execution_count": 17,
   "metadata": {},
   "outputs": [
    {
     "data": {
      "text/plain": [
       "Male      19354\n",
       "Female    17909\n",
       "Other     12737\n",
       "Name: gender, dtype: int64"
      ]
     },
     "execution_count": 17,
     "metadata": {},
     "output_type": "execute_result"
    }
   ],
   "source": [
    "# gender\n",
    "df['gender'].value_counts()"
   ]
  },
  {
   "cell_type": "code",
   "execution_count": 18,
   "metadata": {},
   "outputs": [
    {
     "data": {
      "text/plain": [
       "citizenship           13977\n",
       "other_document         8618\n",
       "work_permit            8128\n",
       "work_card              7440\n",
       "international_visa     6516\n",
       "Name: candidate_demographic_variable_5, dtype: int64"
      ]
     },
     "execution_count": 18,
     "metadata": {},
     "output_type": "execute_result"
    }
   ],
   "source": [
    "# immigration status\n",
    "df['candidate_demographic_variable_5'].value_counts()"
   ]
  },
  {
   "cell_type": "code",
   "execution_count": 20,
   "metadata": {},
   "outputs": [
    {
     "data": {
      "text/plain": [
       "<AxesSubplot:>"
      ]
     },
     "execution_count": 20,
     "metadata": {},
     "output_type": "execute_result"
    },
    {
     "data": {
      "image/png": "[encoded data removed]",
      "text/plain": [
       "<Figure size 432x288 with 1 Axes>"
      ]
     },
     "metadata": {
      "needs_background": "light"
     },
     "output_type": "display_data"
    }
   ],
   "source": [
    "# Looks like there are no abnormal values in age\n",
    "df['age'].hist()"
   ]
  },
  {
   "cell_type": "code",
   "execution_count": 19,
   "metadata": {},
   "outputs": [
    {
     "data": {
      "text/plain": [
       "50000"
      ]
     },
     "execution_count": 19,
     "metadata": {},
     "output_type": "execute_result"
    }
   ],
   "source": [
    "# This feature seems not suitable to be included as a feature\n",
    "df['application_attribute_1'].nunique()"
   ]
  },
  {
   "cell_type": "markdown",
   "metadata": {},
   "source": [
    "## Testing Different Predictors"
   ]
  },
  {
   "cell_type": "markdown",
   "metadata": {},
   "source": [
    "Futher steps given more time:\n",
    "\n",
    "* Add more heterogeneous predictors: Other than boosting models, include different types of models such as multinomial regressions, random forests, neural networks\n",
    "\n",
    "* Selecting predictors: select predictors whose performance pass a certain threshold\n",
    "\n",
    "* Dealing with algorithm bias: using tools like Fairlearn to validate and mitigate algorithm bias before the random classifier ensembles"
   ]
  },
  {
   "cell_type": "code",
   "execution_count": 138,
   "metadata": {},
   "outputs": [],
   "source": [
    "# preprocessing X\n",
    "\n",
    "## dropping non-features\n",
    "df1 = df.copy().drop(['candidate_id','occupation_id','company_id','application_attribute_1'],axis=1)\n",
    "\n",
    "## solving feature names conflicts: two 'Other'\n",
    "df1['gender'] = df1['gender'].apply(lambda x: 'Other_gender' if x == 'Other' else x)\n",
    "df1['ethnicity'] = df1['ethnicity'].apply(lambda x: 'Other_ethnicity' if x == 'Other' else x)\n",
    "\n",
    "## one-hot encoding categorial variables\n",
    "gender = pd.get_dummies(df1['gender'],drop_first=True) \n",
    "ethnicity = pd.get_dummies(df1['ethnicity'],drop_first=True)\n",
    "candidate_demographic_variable_5 = pd.get_dummies(df1['candidate_demographic_variable_5'],drop_first=True)\n",
    "df1.drop(['gender','ethnicity','candidate_demographic_variable_5'],axis=1,inplace=True)\n",
    "\n",
    "## To further address the algorithm bias, we can use the tools like Fairlearn\n",
    "## Due to the time constraint, we will skip this step and focus on systematic bias for now\n",
    "df1 = pd.concat([df1,gender,ethnicity,candidate_demographic_variable_5],axis=1)\n"
   ]
  },
  {
   "cell_type": "code",
   "execution_count": 139,
   "metadata": {},
   "outputs": [],
   "source": [
    "# train-test split\n",
    "\n",
    "from sklearn.model_selection import train_test_split\n",
    "from sklearn.metrics import classification_report, confusion_matrix\n",
    "\n",
    "X_train, X_test, y_train, y_test = train_test_split(df1.drop('application_status',axis=1), \n",
    "                                                    df1['application_status'], test_size=0.20, \n",
    "                                                    random_state=823)"
   ]
  },
  {
   "cell_type": "code",
   "execution_count": 27,
   "metadata": {},
   "outputs": [
    {
     "name": "stdout",
     "output_type": "stream",
     "text": [
      "               precision    recall  f1-score   support\n",
      "\n",
      "        hired       0.77      0.72      0.74      4504\n",
      "    interview       0.73      0.71      0.72      4310\n",
      "pre-interview       0.74      0.78      0.76      6186\n",
      "\n",
      "     accuracy                           0.74     15000\n",
      "    macro avg       0.75      0.74      0.74     15000\n",
      " weighted avg       0.74      0.74      0.74     15000\n",
      "\n"
     ]
    }
   ],
   "source": [
    "# Xgboost predictor\n",
    "import xgboost as xgb\n",
    "\n",
    "xlf=xgb.XGBClassifier(objective='multi:softmax',num_class=3)\n",
    "\n",
    "xlf.fit(X_train, y_train)\n",
    "pred_xgb = xlf.predict(X_test)\n",
    "\n",
    "print(classification_report(y_test, pred_xgb))\n"
   ]
  },
  {
   "cell_type": "code",
   "execution_count": 28,
   "metadata": {},
   "outputs": [
    {
     "name": "stdout",
     "output_type": "stream",
     "text": [
      "               precision    recall  f1-score   support\n",
      "\n",
      "        hired       0.79      0.72      0.75      4504\n",
      "    interview       0.75      0.73      0.74      4310\n",
      "pre-interview       0.74      0.80      0.77      6186\n",
      "\n",
      "     accuracy                           0.76     15000\n",
      "    macro avg       0.76      0.75      0.75     15000\n",
      " weighted avg       0.76      0.76      0.76     15000\n",
      "\n"
     ]
    }
   ],
   "source": [
    "# lightGBM predictor\n",
    "import lightgbm as lgb\n",
    "\n",
    "llf=lgb.LGBMClassifier(objective='multi:softmax',num_class=3)\n",
    "llf.fit(X_train, y_train)\n",
    "pred_llf = llf.predict(X_test)\n",
    "\n",
    "print(classification_report(y_test, pred_llf))\n"
   ]
  },
  {
   "cell_type": "code",
   "execution_count": 199,
   "metadata": {},
   "outputs": [
    {
     "name": "stdout",
     "output_type": "stream",
     "text": [
      "               precision    recall  f1-score   support\n",
      "\n",
      "        hired       0.77      0.73      0.75      3033\n",
      "    interview       0.74      0.70      0.72      2856\n",
      "pre-interview       0.73      0.79      0.76      4111\n",
      "\n",
      "     accuracy                           0.74     10000\n",
      "    macro avg       0.75      0.74      0.74     10000\n",
      " weighted avg       0.74      0.74      0.74     10000\n",
      "\n"
     ]
    }
   ],
   "source": [
    "# catboost\n",
    "import catboost as cab\n",
    "\n",
    "cat_features = df1.columns[-30:] #all the categorical features\n",
    "clf=cab.CatBoostClassifier(cat_features=cat_features,loss_function='MultiClass',verbose=False)\n",
    "clf.fit(X_train, y_train)\n",
    "\n",
    "pred_clf = clf.predict(X_test).reshape(1,-1)[0]\n",
    "\n",
    "print(classification_report(y_test, pred_clf))\n"
   ]
  },
  {
   "cell_type": "markdown",
   "metadata": {},
   "source": [
    "#### Since there is no substantial difference in the performance of these models, I am going to include all of them in the random classifier ensembles."
   ]
  },
  {
   "cell_type": "markdown",
   "metadata": {},
   "source": [
    "## Metrics"
   ]
  },
  {
   "cell_type": "markdown",
   "metadata": {},
   "source": [
    "Futher steps given more time:\n",
    "* Dive deep into the confusion matrix to compute more profound metrics, since the cost of different classification errors might be different"
   ]
  },
  {
   "cell_type": "markdown",
   "metadata": {},
   "source": [
    "One possible thought: \n",
    "\n",
    "Considering the randomness: the unbiased prediction system may generate the different result to the same data points than biased ones\n",
    "\n",
    "Metrics: # of individuals with different predictions between regular_predict() and predict() / # of total individuals, which is actually 1 - accuracy"
   ]
  },
  {
   "cell_type": "markdown",
   "metadata": {},
   "source": [
    "# Formal work"
   ]
  },
  {
   "cell_type": "markdown",
   "metadata": {},
   "source": [
    "## Comparism of Regular and Systematicity-mitigated Prediction Systems"
   ]
  },
  {
   "cell_type": "markdown",
   "metadata": {},
   "source": [
    "### Constructing two prediction systems"
   ]
  },
  {
   "cell_type": "code",
   "execution_count": 1,
   "metadata": {},
   "outputs": [],
   "source": [
    "# loading packages\n",
    "\n",
    "import numpy as np\n",
    "import pandas as pd\n",
    "import matplotlib.pyplot as plt\n",
    "import seaborn as sns\n",
    "\n",
    "plt.style.use('ggplot') \n",
    "%matplotlib inline\n",
    "\n",
    "from sklearn.model_selection import train_test_split\n",
    "from sklearn.metrics import accuracy_score\n",
    "import xgboost as xgb\n",
    "import lightgbm as lgb\n",
    "import catboost as cab\n",
    "import random\n"
   ]
  },
  {
   "cell_type": "code",
   "execution_count": 2,
   "metadata": {},
   "outputs": [],
   "source": [
    "def preprocessing(file_name):\n",
    "    '''This function preprocess the dataframe to prep it for prediction modeling.'''\n",
    "    \n",
    "    # reading data\n",
    "    df = pd.read_csv(file_name)\n",
    "\n",
    "    # dropping non-features\n",
    "    df1 = df.copy().drop(['candidate_id','occupation_id','company_id','application_attribute_1'],axis=1)\n",
    "\n",
    "    # solving feature names conflicts: two 'Other'\n",
    "    df1['gender'] = df1['gender'].apply(lambda x: 'Other_gender' if x == 'Other' else x)\n",
    "    df1['ethnicity'] = df1['ethnicity'].apply(lambda x: 'Other_ethnicity' if x == 'Other' else x)\n",
    "\n",
    "    # one-hot encoding categorial variables\n",
    "    gender = pd.get_dummies(df1['gender'],drop_first=True) \n",
    "    ethnicity = pd.get_dummies(df1['ethnicity'],drop_first=True)\n",
    "    candidate_demographic_variable_5 = pd.get_dummies(df1['candidate_demographic_variable_5'],drop_first=True)\n",
    "    df1.drop(['gender','ethnicity','candidate_demographic_variable_5'],axis=1,inplace=True)\n",
    "\n",
    "    # To further address the algorithm bias, we can use the tools like Fairlearn\n",
    "    # Due to the time constraint, we will skip this step and focus on systematic bias for now\n",
    "    df1 = pd.concat([df1,gender,ethnicity,candidate_demographic_variable_5],axis=1)\n",
    "\n",
    "    return df1"
   ]
  },
  {
   "cell_type": "markdown",
   "metadata": {},
   "source": [
    "### Regular Prediction System"
   ]
  },
  {
   "cell_type": "code",
   "execution_count": 9,
   "metadata": {},
   "outputs": [],
   "source": [
    "def regular_predict(file_name,random_seed):\n",
    "    '''This function choose the model with the highest accuracy to predict.'''\n",
    "    \n",
    "    # preprocessing data\n",
    "    df1 = preprocessing(file_name)\n",
    "    \n",
    "    # train-test split\n",
    "    X_train, X_test, y_train, y_test = train_test_split(df1.drop('application_status',axis=1), \n",
    "                                                    df1['application_status'], test_size=0.20, \n",
    "                                                    random_state=random_seed)\n",
    "    \n",
    "    \n",
    "    \n",
    "    # XGBoost\n",
    "    xlf=xgb.XGBClassifier(objective='multi:softmax',num_class=3)\n",
    "    xlf.fit(X_train, y_train)\n",
    "    pred_xgb = xlf.predict(X_test)\n",
    "    accu_xgb = accuracy_score(y_test,pred_xgb)\n",
    "    \n",
    "    # LightGBM\n",
    "    llf=lgb.LGBMClassifier(objective='multi:softmax',num_class=3)\n",
    "    llf.fit(X_train, y_train)\n",
    "    pred_llf = llf.predict(X_test)\n",
    "    accu_llf = accuracy_score(y_test,pred_llf)\n",
    "\n",
    "    # CatBoost\n",
    "    cat_features = df1.columns[-30:] #all the categorical features\n",
    "    clf=cab.CatBoostClassifier(cat_features=cat_features,loss_function='MultiClass',verbose=False)\n",
    "    clf.fit(X_train, y_train)\n",
    "    pred_clf = clf.predict(X_test).reshape(1,-1)[0]\n",
    "    accu_clf = accuracy_score(y_test,pred_clf)\n",
    "    \n",
    "    # models\n",
    "    models = [xlf,llf,clf]\n",
    "    # accuracy score\n",
    "    accuracy_scores = np.array([accu_xgb,accu_llf,accu_clf])\n",
    "    \n",
    "    # Find the best predictor based on accuracy\n",
    "    best_predictor = models[np.argmax(accuracy_scores)]\n",
    "\n",
    "    print('Best predictor:',best_predictor)\n",
    "    \n",
    "    # return the predicted result of the best predictor\n",
    "    return best_predictor.predict(X_test).tolist()\n",
    "\n",
    "    \n"
   ]
  },
  {
   "cell_type": "code",
   "execution_count": 11,
   "metadata": {},
   "outputs": [
    {
     "name": "stdout",
     "output_type": "stream",
     "text": [
      "Best predictor: LGBMClassifier(num_class=3, objective='multi:softmax')\n"
     ]
    }
   ],
   "source": [
    "random_seed = 823\n",
    "regular_pred = regular_predict('data.csv',random_seed)"
   ]
  },
  {
   "cell_type": "markdown",
   "metadata": {},
   "source": [
    "### Systematicity-mitigated Prediction System"
   ]
  },
  {
   "cell_type": "code",
   "execution_count": 12,
   "metadata": {},
   "outputs": [],
   "source": [
    "def predict(file_name,random_seed):\n",
    "    '''This function choose a random model to predict.'''\n",
    "    \n",
    "    # preprocessing data\n",
    "    df1 = preprocessing(file_name)\n",
    "    \n",
    "    # train-test split\n",
    "    X_train, X_test, y_train, y_test = train_test_split(df1.drop('application_status',axis=1), \n",
    "                                                    df1['application_status'], test_size=0.20, \n",
    "                                                    random_state=random_seed)\n",
    "    \n",
    "    # XGBoost\n",
    "    xlf=xgb.XGBClassifier(objective='multi:softmax',num_class=3)\n",
    "    xlf.fit(X_train, y_train)\n",
    "    \n",
    "    # LightGBM\n",
    "    llf=lgb.LGBMClassifier(objective='multi:softmax',num_class=3)\n",
    "    llf.fit(X_train, y_train)\n",
    "    \n",
    "    # CatBoost\n",
    "    cat_features = df1.columns[-30:] #all the categorical features\n",
    "    clf=cab.CatBoostClassifier(cat_features=cat_features,loss_function='MultiClass',verbose=False)\n",
    "    clf.fit(X_train, y_train)\n",
    "    \n",
    "    # prediction results\n",
    "    pred = [np.nan]*y_test.size\n",
    "    \n",
    "    # predicting\n",
    "    for i in range(X_test.shape[0]):\n",
    "        \n",
    "        # draw a random number from (0,1,2)\n",
    "        random_num = random.randint(0,2)\n",
    "    \n",
    "        # XGBoost\n",
    "        if random_num == 0:\n",
    "            pred[i] = xlf.predict(X_test.iloc[[i]])[0]\n",
    "        \n",
    "        # LightGBM\n",
    "        elif random_num == 1:\n",
    "            pred[i] = llf.predict(X_test.iloc[[i]])[0]\n",
    "            \n",
    "        # CatBoost\n",
    "        else:\n",
    "            pred[i] = clf.predict(X_test.iloc[[i]]).reshape(1,-1)[0][0]\n",
    "    \n",
    " \n",
    "    return pred\n"
   ]
  },
  {
   "cell_type": "code",
   "execution_count": 13,
   "metadata": {},
   "outputs": [],
   "source": [
    "random_seed = 823\n",
    "pred = predict('data.csv',random_seed)"
   ]
  },
  {
   "cell_type": "markdown",
   "metadata": {},
   "source": [
    "### Metrics: evalutaing the mitigation"
   ]
  },
  {
   "cell_type": "code",
   "execution_count": 268,
   "metadata": {},
   "outputs": [
    {
     "data": {
      "text/plain": [
       "0.9264"
      ]
     },
     "execution_count": 268,
     "metadata": {},
     "output_type": "execute_result"
    }
   ],
   "source": [
    "accuracy_score(pred,regular_pred)"
   ]
  },
  {
   "cell_type": "code",
   "execution_count": 267,
   "metadata": {},
   "outputs": [
    {
     "name": "stdout",
     "output_type": "stream",
     "text": [
      "               precision    recall  f1-score   support\n",
      "\n",
      "        hired       0.94      0.91      0.92      2826\n",
      "    interview       0.91      0.92      0.92      2769\n",
      "pre-interview       0.93      0.94      0.93      4405\n",
      "\n",
      "     accuracy                           0.93     10000\n",
      "    macro avg       0.93      0.92      0.93     10000\n",
      " weighted avg       0.93      0.93      0.93     10000\n",
      "\n"
     ]
    }
   ],
   "source": [
    "print(classification_report(pred,regular_pred,labels=[\"hired\", \"interview\", \"pre-interview\"]))\n"
   ]
  },
  {
   "cell_type": "code",
   "execution_count": 269,
   "metadata": {},
   "outputs": [
    {
     "data": {
      "image/png": "[encoded data removed]",
      "text/plain": [
       "<Figure size 504x432 with 2 Axes>"
      ]
     },
     "metadata": {
      "needs_background": "light"
     },
     "output_type": "display_data"
    }
   ],
   "source": [
    "# kinda confusion matrix\n",
    "cm = confusion_matrix(pred,regular_pred,labels=[\"hired\", \"interview\", \"pre-interview\"])\n",
    "\n",
    "def plot_confusion_matrix(cm, classes, normalized=True, cmap='bone'):\n",
    "    plt.figure(figsize=[7, 6])\n",
    "    norm_cm = cm\n",
    "    if normalized:\n",
    "        norm_cm = cm.astype('float') / cm.sum(axis=1)[:, np.newaxis]\n",
    "        sns.heatmap(norm_cm, annot=cm, fmt='g', xticklabels=classes, yticklabels=classes, cmap=cmap)\n",
    "\n",
    "plot_confusion_matrix(cm, ['hired', 'interview', 'pre-interview'])"
   ]
  },
  {
   "cell_type": "markdown",
   "metadata": {},
   "source": [
    "## Simulation"
   ]
  },
  {
   "cell_type": "code",
   "execution_count": 20,
   "metadata": {},
   "outputs": [],
   "source": [
    "def systematicity_evaluation(file_name):\n",
    "    '''\n",
    "    This function will first simulate a series of prediction results of two different prediction systems,\n",
    "    provided with different randomness seeds used in train-test set split. \n",
    "    Then this function will evaluate the systematcity of two different systems.\n",
    "    '''\n",
    "    # number of simulations\n",
    "    n = 30\n",
    "    inconsistent_rate = []\n",
    "    \n",
    "    # simulation\n",
    "    for random_seed in range(n):\n",
    "        print('start:', random_seed)\n",
    "        \n",
    "        regular_pred = regular_predict(file_name, random_seed)\n",
    "        \n",
    "        pred = predict(file_name, random_seed)\n",
    "                       \n",
    "        inconsistent_rate.append(1-accuracy_score(pred, regular_pred))\n",
    "    \n",
    "    # return the two dataframes\n",
    "    return inconsistent_rate"
   ]
  },
  {
   "cell_type": "code",
   "execution_count": 21,
   "metadata": {},
   "outputs": [
    {
     "name": "stdout",
     "output_type": "stream",
     "text": [
      "start: 0\n",
      "Best predictor: <catboost.core.CatBoostClassifier object at 0x7fb93a2add68>\n",
      "start: 1\n",
      "Best predictor: LGBMClassifier(num_class=3, objective='multi:softmax')\n",
      "start: 2\n",
      "Best predictor: LGBMClassifier(num_class=3, objective='multi:softmax')\n",
      "start: 3\n",
      "Best predictor: LGBMClassifier(num_class=3, objective='multi:softmax')\n",
      "start: 4\n",
      "Best predictor: LGBMClassifier(num_class=3, objective='multi:softmax')\n",
      "start: 5\n",
      "Best predictor: LGBMClassifier(num_class=3, objective='multi:softmax')\n",
      "start: 6\n",
      "Best predictor: LGBMClassifier(num_class=3, objective='multi:softmax')\n",
      "start: 7\n",
      "Best predictor: <catboost.core.CatBoostClassifier object at 0x7fb938182e10>\n",
      "start: 8\n",
      "Best predictor: LGBMClassifier(num_class=3, objective='multi:softmax')\n",
      "start: 9\n",
      "Best predictor: LGBMClassifier(num_class=3, objective='multi:softmax')\n",
      "start: 10\n",
      "Best predictor: LGBMClassifier(num_class=3, objective='multi:softmax')\n",
      "start: 11\n",
      "Best predictor: LGBMClassifier(num_class=3, objective='multi:softmax')\n",
      "start: 12\n",
      "Best predictor: LGBMClassifier(num_class=3, objective='multi:softmax')\n",
      "start: 13\n",
      "Best predictor: LGBMClassifier(num_class=3, objective='multi:softmax')\n",
      "start: 14\n",
      "Best predictor: LGBMClassifier(num_class=3, objective='multi:softmax')\n",
      "start: 15\n",
      "Best predictor: LGBMClassifier(num_class=3, objective='multi:softmax')\n",
      "start: 16\n",
      "Best predictor: LGBMClassifier(num_class=3, objective='multi:softmax')\n",
      "start: 17\n",
      "Best predictor: LGBMClassifier(num_class=3, objective='multi:softmax')\n",
      "start: 18\n",
      "Best predictor: LGBMClassifier(num_class=3, objective='multi:softmax')\n",
      "start: 19\n",
      "Best predictor: LGBMClassifier(num_class=3, objective='multi:softmax')\n",
      "start: 20\n",
      "Best predictor: LGBMClassifier(num_class=3, objective='multi:softmax')\n",
      "start: 21\n",
      "Best predictor: LGBMClassifier(num_class=3, objective='multi:softmax')\n",
      "start: 22\n",
      "Best predictor: LGBMClassifier(num_class=3, objective='multi:softmax')\n",
      "start: 23\n",
      "Best predictor: LGBMClassifier(num_class=3, objective='multi:softmax')\n",
      "start: 24\n",
      "Best predictor: XGBClassifier(base_score=0.5, booster='gbtree', colsample_bylevel=1,\n",
      "              colsample_bynode=1, colsample_bytree=1, gamma=0, gpu_id=-1,\n",
      "              importance_type='gain', interaction_constraints='',\n",
      "              learning_rate=0.300000012, max_delta_step=0, max_depth=6,\n",
      "              min_child_weight=1, missing=nan, monotone_constraints='()',\n",
      "              n_estimators=100, n_jobs=0, num_class=3, num_parallel_tree=1,\n",
      "              objective='multi:softprob', random_state=0, reg_alpha=0,\n",
      "              reg_lambda=1, scale_pos_weight=None, subsample=1,\n",
      "              tree_method='exact', validate_parameters=1, verbosity=None)\n",
      "start: 25\n",
      "Best predictor: LGBMClassifier(num_class=3, objective='multi:softmax')\n",
      "start: 26\n",
      "Best predictor: LGBMClassifier(num_class=3, objective='multi:softmax')\n",
      "start: 27\n",
      "Best predictor: XGBClassifier(base_score=0.5, booster='gbtree', colsample_bylevel=1,\n",
      "              colsample_bynode=1, colsample_bytree=1, gamma=0, gpu_id=-1,\n",
      "              importance_type='gain', interaction_constraints='',\n",
      "              learning_rate=0.300000012, max_delta_step=0, max_depth=6,\n",
      "              min_child_weight=1, missing=nan, monotone_constraints='()',\n",
      "              n_estimators=100, n_jobs=0, num_class=3, num_parallel_tree=1,\n",
      "              objective='multi:softprob', random_state=0, reg_alpha=0,\n",
      "              reg_lambda=1, scale_pos_weight=None, subsample=1,\n",
      "              tree_method='exact', validate_parameters=1, verbosity=None)\n",
      "start: 28\n",
      "Best predictor: LGBMClassifier(num_class=3, objective='multi:softmax')\n",
      "start: 29\n",
      "Best predictor: LGBMClassifier(num_class=3, objective='multi:softmax')\n"
     ]
    }
   ],
   "source": [
    "inconsistent_rate = systematicity_evaluation('data.csv')"
   ]
  },
  {
   "cell_type": "code",
   "execution_count": 22,
   "metadata": {},
   "outputs": [
    {
     "data": {
      "text/plain": [
       "<AxesSubplot:>"
      ]
     },
     "execution_count": 22,
     "metadata": {},
     "output_type": "execute_result"
    },
    {
     "data": {
      "image/png": "[encoded data removed]",
      "text/plain": [
       "<Figure size 432x288 with 1 Axes>"
      ]
     },
     "metadata": {
      "needs_background": "light"
     },
     "output_type": "display_data"
    }
   ],
   "source": [
    "# data viz\n",
    "pd.DataFrame(inconsistent_rate,columns=['rate'])['rate'].hist()"
   ]
  },
  {
   "cell_type": "code",
   "execution_count": 25,
   "metadata": {},
   "outputs": [
    {
     "data": {
      "text/plain": [
       "count    30.000000\n",
       "mean      0.074120\n",
       "std       0.002783\n",
       "min       0.067000\n",
       "25%       0.073125\n",
       "50%       0.074100\n",
       "75%       0.075875\n",
       "max       0.080100\n",
       "Name: rate, dtype: float64"
      ]
     },
     "execution_count": 25,
     "metadata": {},
     "output_type": "execute_result"
    }
   ],
   "source": [
    "# statistics\n",
    "pd.DataFrame(inconsistent_rate,columns=['rate'])['rate'].describe()"
   ]
  },
  {
   "cell_type": "code",
   "execution_count": null,
   "metadata": {},
   "outputs": [],
   "source": []
  }
 ],
 "metadata": {
  "kernelspec": {
   "display_name": "Python 3",
   "language": "python",
   "name": "python3"
  },
  "language_info": {
   "codemirror_mode": {
    "name": "ipython",
    "version": 3
   },
   "file_extension": ".py",
   "mimetype": "text/x-python",
   "name": "python",
   "nbconvert_exporter": "python",
   "pygments_lexer": "ipython3",
   "version": "3.6.10"
  }
 },
 "nbformat": 4,
 "nbformat_minor": 4
}
